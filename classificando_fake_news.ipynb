{
 "cells": [
  {
   "cell_type": "markdown",
   "id": "unavailable-separate",
   "metadata": {},
   "source": [
    "# **Classificando Fake News**"
   ]
  },
  {
   "cell_type": "markdown",
   "id": "recovered-irrigation",
   "metadata": {},
   "source": [
    "Vivemos em uma época que recebemos informações a todo momento, das mais diferentes formas e fontes. Se por um lado há pontos benéficos como, por exemplo, o acesso ao conhecimento está muito mais fácil, também há pontos negativos e o que vamos abordar aqui é, justamente, um desses pontos negativos: a **Fake News**."
   ]
  },
  {
   "cell_type": "markdown",
   "id": "corresponding-society",
   "metadata": {},
   "source": [
    "É bem provável que em alguma momento você já tenho lido alguma notícia falsa (fake news) ou, pelo menos, lido o título de uma. Pois, quando somos \"bombardeados\" por informações de todos os lados, a desinformação acaba se tornandoum grande problema.\n",
    "\n",
    "Assim, de acordo com a Wikipedia, as **Fake News (Notícias Falsas)** são definidas como:\n",
    "> Consiste na distribuição deliberada de desinformação ou boatos via jornal impresso, televisão, rádio, ou ainda online, como nas mídias sociais. Este tipo de notícia é escrito e publicado com a intenção de enganar, a fim de se obter ganhos financeiros ou políticos, muitas vezes com manchetes sensacionalistas, exageradas ou evidentemente falsas para chamar a atenção.\n",
    "> \n",
    "> O conteúdo intencionalmente enganoso e falso é diferente da sátira ou paródia. Estas notícias, muitas vezes, empregam manchetes atraentes ou inteiramente fabricadas para aumentar o número de leitores, compartilhamento e taxas de clique na Internet."
   ]
  },
  {
   "cell_type": "markdown",
   "id": "touched-floating",
   "metadata": {},
   "source": [
    "## **O impacto das Fake News**"
   ]
  },
  {
   "cell_type": "markdown",
   "id": "binary-unknown",
   "metadata": {},
   "source": [
    "As fake news podem ser disseminadas de diversas maneiras desde uma simples conversa entre amigos ou familiares ou até mesmo em grandes portais de notícias, com isso muitas vezes não vamos atrás de checar se uma notícia é falsa ou não.\n",
    "\n",
    "Assim, as fake news podem se tornar um grande problema, principalmente, em casos que podem influenciar resultados de eleições, políticas públicas, opinião pública sobre determinados projetos, o combate às pandemias e até pessoas públicas, sejam elas do meio político, jornalístico, artístico ou qualquer outro meio que possa exercer certa influência."
   ]
  },
  {
   "cell_type": "markdown",
   "id": "duplicate-secretariat",
   "metadata": {},
   "source": [
    "## **Sobre o projeto**"
   ]
  },
  {
   "cell_type": "markdown",
   "id": "upper-recycling",
   "metadata": {},
   "source": [
    "Atualmente, temos diversas ferramentas que podem nos auxiliar a identificar e filtrar as fakes news. Assim, utilizando modelos de *Machine Learning* como **Redes Neurais** podemos verificar muitas fontes de notícias e identificar o que é falso e o que é verdadeiro, de forma mais fácil ainda.\n",
    "\n",
    "> O objetivo desse projeto é construir um modelo que seja capaz de classificar as notícias entre falsas ou verdadeiras.\n",
    "\n",
    "Para a construção do modelo, será utilizado a biblioteca **TensorFlow** que irá treinar as Redes Neurais para fazer o trabalho de classificação."
   ]
  },
  {
   "cell_type": "markdown",
   "id": "annoying-testing",
   "metadata": {},
   "source": [
    "## **Importando as bibliotecas necessárias e os dados**"
   ]
  },
  {
   "cell_type": "code",
   "execution_count": 1,
   "id": "precious-strand",
   "metadata": {},
   "outputs": [],
   "source": [
    "# Importando as bibliotecas\n",
    "import pandas as pd\n",
    "import numpy as np\n",
    "import matplotlib.pyplot as plt\n",
    "import seaborn as sns\n",
    "import tensorflow as tf\n",
    "import string\n",
    "from tensorflow import keras\n",
    "\n",
    "from sklearn.model_selection import train_test_split\n",
    "\n",
    "# Configurando o notebook\n",
    "np.random.seed(77)\n",
    "sns.set(style=\"white\")\n",
    "\n",
    "# Não mostrar avisos\n",
    "import warnings\n",
    "warnings.filterwarnings('ignore')"
   ]
  },
  {
   "cell_type": "code",
   "execution_count": 3,
   "id": "satisfactory-service",
   "metadata": {},
   "outputs": [
    {
     "name": "stdout",
     "output_type": "stream",
     "text": [
      "Os dados possuem 44898 linhas e 5 colunas.\n",
      "\n",
      "\n",
      "As primeiras entradas dos daods são:\n"
     ]
    },
    {
     "data": {
      "text/html": [
       "<div>\n",
       "<style scoped>\n",
       "    .dataframe tbody tr th:only-of-type {\n",
       "        vertical-align: middle;\n",
       "    }\n",
       "\n",
       "    .dataframe tbody tr th {\n",
       "        vertical-align: top;\n",
       "    }\n",
       "\n",
       "    .dataframe thead th {\n",
       "        text-align: right;\n",
       "    }\n",
       "</style>\n",
       "<table border=\"1\" class=\"dataframe\">\n",
       "  <thead>\n",
       "    <tr style=\"text-align: right;\">\n",
       "      <th></th>\n",
       "      <th>title</th>\n",
       "      <th>text</th>\n",
       "      <th>subject</th>\n",
       "      <th>date</th>\n",
       "      <th>Target</th>\n",
       "    </tr>\n",
       "  </thead>\n",
       "  <tbody>\n",
       "    <tr>\n",
       "      <th>0</th>\n",
       "      <td>BREAKING: GOP Chairman Grassley Has Had Enoug...</td>\n",
       "      <td>Donald Trump s White House is in chaos, and th...</td>\n",
       "      <td>News</td>\n",
       "      <td>July 21, 2017</td>\n",
       "      <td>1</td>\n",
       "    </tr>\n",
       "    <tr>\n",
       "      <th>1</th>\n",
       "      <td>Failed GOP Candidates Remembered In Hilarious...</td>\n",
       "      <td>Now that Donald Trump is the presumptive GOP n...</td>\n",
       "      <td>News</td>\n",
       "      <td>May 7, 2016</td>\n",
       "      <td>1</td>\n",
       "    </tr>\n",
       "    <tr>\n",
       "      <th>2</th>\n",
       "      <td>Mike Pence’s New DC Neighbors Are HILARIOUSLY...</td>\n",
       "      <td>Mike Pence is a huge homophobe. He supports ex...</td>\n",
       "      <td>News</td>\n",
       "      <td>December 3, 2016</td>\n",
       "      <td>1</td>\n",
       "    </tr>\n",
       "    <tr>\n",
       "      <th>3</th>\n",
       "      <td>California AG pledges to defend birth control ...</td>\n",
       "      <td>SAN FRANCISCO (Reuters) - California Attorney ...</td>\n",
       "      <td>politicsNews</td>\n",
       "      <td>October 6, 2017</td>\n",
       "      <td>0</td>\n",
       "    </tr>\n",
       "    <tr>\n",
       "      <th>4</th>\n",
       "      <td>AZ RANCHERS Living On US-Mexico Border Destroy...</td>\n",
       "      <td>Twisted reasoning is all that comes from Pelos...</td>\n",
       "      <td>politics</td>\n",
       "      <td>Apr 25, 2017</td>\n",
       "      <td>1</td>\n",
       "    </tr>\n",
       "  </tbody>\n",
       "</table>\n",
       "</div>"
      ],
      "text/plain": [
       "                                               title  \\\n",
       "0   BREAKING: GOP Chairman Grassley Has Had Enoug...   \n",
       "1   Failed GOP Candidates Remembered In Hilarious...   \n",
       "2   Mike Pence’s New DC Neighbors Are HILARIOUSLY...   \n",
       "3  California AG pledges to defend birth control ...   \n",
       "4  AZ RANCHERS Living On US-Mexico Border Destroy...   \n",
       "\n",
       "                                                text       subject  \\\n",
       "0  Donald Trump s White House is in chaos, and th...          News   \n",
       "1  Now that Donald Trump is the presumptive GOP n...          News   \n",
       "2  Mike Pence is a huge homophobe. He supports ex...          News   \n",
       "3  SAN FRANCISCO (Reuters) - California Attorney ...  politicsNews   \n",
       "4  Twisted reasoning is all that comes from Pelos...      politics   \n",
       "\n",
       "               date  Target  \n",
       "0     July 21, 2017       1  \n",
       "1       May 7, 2016       1  \n",
       "2  December 3, 2016       1  \n",
       "3  October 6, 2017        0  \n",
       "4      Apr 25, 2017       1  "
      ]
     },
     "execution_count": 3,
     "metadata": {},
     "output_type": "execute_result"
    }
   ],
   "source": [
    "# Importando os dados\n",
    "df = pd.read_csv(\"./Dataset/fake_news.csv\")\n",
    "\n",
    "# Verificando os dados\n",
    "print(f\"Os dados possuem {df.shape[0]} linhas e {df.shape[1]} colunas.\")\n",
    "print(\"\\n\")\n",
    "print(\"As primeiras entradas dos daods são:\")\n",
    "df.head()"
   ]
  },
  {
   "cell_type": "markdown",
   "id": "determined-albania",
   "metadata": {},
   "source": [
    "## **Sobre os dados**"
   ]
  },
  {
   "cell_type": "markdown",
   "id": "every-arctic",
   "metadata": {},
   "source": [
    "Os dados possuem aproximadamente 45 mil linhas e 5 colunas, sendo:\n",
    "- `title`: título da notícia;\n",
    "- `text`: texto da notícia;\n",
    "- `subject`: assunto da notícia;\n",
    "- `date`: data em que a notícia foi publicada;\n",
    "- `Target`: variável objetivo que está dividida em:\n",
    "    - 1 $\\rightarrow$ True (notícia verdadeira);\n",
    "    - 0 $\\rightarrow$ False (notícia falsa/fake news)."
   ]
  },
  {
   "cell_type": "markdown",
   "id": "opened-tolerance",
   "metadata": {},
   "source": [
    "## **Tratamento dos dados**"
   ]
  },
  {
   "cell_type": "markdown",
   "id": "loaded-blogger",
   "metadata": {},
   "source": [
    "Nesse projeto, os dados estão em linguagem natural, ou seja, no foramto `string`, então é necessário ter algum conhecimento de Processamento de linguagem natural (NLP) para tratar os dados da melhor forma possível, para que o modelo seja bem construído e assim termos os melhores resultados."
   ]
  },
  {
   "cell_type": "code",
   "execution_count": 3,
   "id": "capable-sierra",
   "metadata": {},
   "outputs": [
    {
     "data": {
      "text/html": [
       "<div>\n",
       "<style scoped>\n",
       "    .dataframe tbody tr th:only-of-type {\n",
       "        vertical-align: middle;\n",
       "    }\n",
       "\n",
       "    .dataframe tbody tr th {\n",
       "        vertical-align: top;\n",
       "    }\n",
       "\n",
       "    .dataframe thead th {\n",
       "        text-align: right;\n",
       "    }\n",
       "</style>\n",
       "<table border=\"1\" class=\"dataframe\">\n",
       "  <thead>\n",
       "    <tr style=\"text-align: right;\">\n",
       "      <th></th>\n",
       "      <th>title</th>\n",
       "      <th>text</th>\n",
       "      <th>subject</th>\n",
       "      <th>date</th>\n",
       "      <th>Target</th>\n",
       "    </tr>\n",
       "  </thead>\n",
       "  <tbody>\n",
       "    <tr>\n",
       "      <th>0</th>\n",
       "      <td>BREAKING: GOP Chairman Grassley Has Had Enoug...</td>\n",
       "      <td>donald  trump  s  white  house  is  in  chaos ...</td>\n",
       "      <td>News</td>\n",
       "      <td>July 21, 2017</td>\n",
       "      <td>1</td>\n",
       "    </tr>\n",
       "    <tr>\n",
       "      <th>1</th>\n",
       "      <td>Failed GOP Candidates Remembered In Hilarious...</td>\n",
       "      <td>now  that  donald  trump  is  the  presumptive...</td>\n",
       "      <td>News</td>\n",
       "      <td>May 7, 2016</td>\n",
       "      <td>1</td>\n",
       "    </tr>\n",
       "    <tr>\n",
       "      <th>2</th>\n",
       "      <td>Mike Pence’s New DC Neighbors Are HILARIOUSLY...</td>\n",
       "      <td>mike  pence  is  a  huge  homophobe  he  suppo...</td>\n",
       "      <td>News</td>\n",
       "      <td>December 3, 2016</td>\n",
       "      <td>1</td>\n",
       "    </tr>\n",
       "    <tr>\n",
       "      <th>3</th>\n",
       "      <td>California AG pledges to defend birth control ...</td>\n",
       "      <td>san  francisco  reuters    california  attorne...</td>\n",
       "      <td>politicsNews</td>\n",
       "      <td>October 6, 2017</td>\n",
       "      <td>0</td>\n",
       "    </tr>\n",
       "    <tr>\n",
       "      <th>4</th>\n",
       "      <td>AZ RANCHERS Living On US-Mexico Border Destroy...</td>\n",
       "      <td>twisted  reasoning  is  all  that  comes  from...</td>\n",
       "      <td>politics</td>\n",
       "      <td>Apr 25, 2017</td>\n",
       "      <td>1</td>\n",
       "    </tr>\n",
       "  </tbody>\n",
       "</table>\n",
       "</div>"
      ],
      "text/plain": [
       "                                               title  \\\n",
       "0   BREAKING: GOP Chairman Grassley Has Had Enoug...   \n",
       "1   Failed GOP Candidates Remembered In Hilarious...   \n",
       "2   Mike Pence’s New DC Neighbors Are HILARIOUSLY...   \n",
       "3  California AG pledges to defend birth control ...   \n",
       "4  AZ RANCHERS Living On US-Mexico Border Destroy...   \n",
       "\n",
       "                                                text       subject  \\\n",
       "0  donald  trump  s  white  house  is  in  chaos ...          News   \n",
       "1  now  that  donald  trump  is  the  presumptive...          News   \n",
       "2  mike  pence  is  a  huge  homophobe  he  suppo...          News   \n",
       "3  san  francisco  reuters    california  attorne...  politicsNews   \n",
       "4  twisted  reasoning  is  all  that  comes  from...      politics   \n",
       "\n",
       "               date  Target  \n",
       "0     July 21, 2017       1  \n",
       "1       May 7, 2016       1  \n",
       "2  December 3, 2016       1  \n",
       "3  October 6, 2017        0  \n",
       "4      Apr 25, 2017       1  "
      ]
     },
     "execution_count": 3,
     "metadata": {},
     "output_type": "execute_result"
    }
   ],
   "source": [
    "# Tratamento do texto das notícias\n",
    "def clean_text(text):\n",
    "    words = str(text).split()\n",
    "    words = [i.lower() + \" \" for i in words]\n",
    "    words = \" \".join(words)\n",
    "    words = words.translate(words.maketrans('', '', string.punctuation))\n",
    "    return words\n",
    "\n",
    "df['text'] = df['text'].apply(clean_text)\n",
    "df.head()"
   ]
  },
  {
   "cell_type": "markdown",
   "id": "fitted-medicine",
   "metadata": {},
   "source": [
    "Então, é necessário separar os dados em treino, validação e teste, para a construção do modelo. Assim:"
   ]
  },
  {
   "cell_type": "code",
   "execution_count": 4,
   "id": "engaging-equity",
   "metadata": {},
   "outputs": [
    {
     "name": "stdout",
     "output_type": "stream",
     "text": [
      "Entradas do Conjunto de Dados\n",
      "Dados de treino: 26938 linhas.\n",
      "Dados de validação: 6735 linhas.\n",
      "Dados de treino: 11225 linhas.\n"
     ]
    }
   ],
   "source": [
    "# Separando os dados em treino, validação e teste\n",
    "train, test = train_test_split(df)\n",
    "train, validation = train_test_split(train, test_size = 0.2)\n",
    "\n",
    "print(\"Entradas do Conjunto de Dados\")\n",
    "print(f\"Dados de treino: {len(train)} linhas.\")\n",
    "print(f\"Dados de validação: {len(validation)} linhas.\")\n",
    "print(f\"Dados de treino: {len(test)} linhas.\")"
   ]
  },
  {
   "cell_type": "markdown",
   "id": "retained-headset",
   "metadata": {},
   "source": [
    "## **Pré-processamento de Strings - NLP**"
   ]
  },
  {
   "cell_type": "markdown",
   "id": "surprising-portugal",
   "metadata": {},
   "source": [
    "O foco desse projeto é o ***Deep Learning*** e o desenvolvimento de um modelo baseado em **Redes Neurais**, assim irei apenas mostrar de maneira bem resumida esse assunto.\n",
    "\n",
    "Resumidamente, nesta etapa é feita a simplificação do texto, para que o modelo entenda e processe de maneira mais fácil. E para isso, irei utilizar uma técnica chama ***Tokenizing***.\n",
    "\n",
    "Basicamente, *Tokenizing* (Em tradução livre, Tokenização) é uma etapa que separa longas strings de texto em pedaços menores de texto, chamados de tokens.\n",
    "\n",
    "<img src='tokenization.jpg' width=\"600\">\n",
    "\n",
    "Para se aprofundar e entender melhor o assunto, deixarei os seguintes links:\n",
    "- [A General Approach to Preprocessing Text Data](https://www.kdnuggets.com/2017/12/general-approach-preprocessing-text-data.html)\n",
    "- [Tokenization and Text Data Preparation with TensorFlow & Keras](https://www.kdnuggets.com/2020/03/tensorflow-keras-tokenization-text-data-prep.html)"
   ]
  },
  {
   "cell_type": "code",
   "execution_count": 5,
   "id": "monthly-copper",
   "metadata": {},
   "outputs": [],
   "source": [
    "# Preparação dos dados para o modelo\n",
    "from tensorflow.keras.preprocessing.text import Tokenizer\n",
    "from tensorflow.keras.preprocessing.sequence import pad_sequences\n",
    "\n",
    "vocab_size = 10000\n",
    "trunc_type = \"post\"\n",
    "pad_type = \"post\"\n",
    "oov_tok = \"<OOV>\"\n",
    "tokenizer = Tokenizer(num_words = vocab_size, oov_token = oov_tok)\n",
    "tokenizer.fit_on_texts(train.text)\n",
    "word_index = tokenizer.word_index\n",
    "\n",
    "# Aplicação das técnicas tokenizing e padding\n",
    "training_sequences = tokenizer.texts_to_sequences(np.array(train.text))\n",
    "training_padded = pad_sequences(training_sequences, truncating = trunc_type, padding = pad_type)\n",
    "\n",
    "max_length = len(training_padded[0])\n",
    "\n",
    "validation_sequences = tokenizer.texts_to_sequences(np.array(validation.text))\n",
    "validation_padded = pad_sequences(validation_sequences, padding = pad_type, truncating = trunc_type, maxlen = max_length)\n",
    "\n",
    "# Criação das arrays com inputs\n",
    "x_train = np.copy(training_padded)\n",
    "x_val = np.copy(validation_padded)\n",
    "y_train = train['Target'].values\n",
    "y_val = validation['Target'].values"
   ]
  },
  {
   "cell_type": "code",
   "execution_count": 6,
   "id": "round-invasion",
   "metadata": {},
   "outputs": [
    {
     "name": "stdout",
     "output_type": "stream",
     "text": [
      "Tamanho dos arrays\n",
      "Treino: 26938 linhas.\n",
      "Resposta: 26938 linhas.\n"
     ]
    }
   ],
   "source": [
    "# Verificação do tamanho dos arrays\n",
    "print(\"Tamanho dos arrays\")\n",
    "print(f\"Treino: {len(x_train)} linhas.\")\n",
    "print(f\"Resposta: {len(y_train)} linhas.\")"
   ]
  },
  {
   "cell_type": "markdown",
   "id": "supported-explanation",
   "metadata": {},
   "source": [
    "## **Construção do Modelo**"
   ]
  },
  {
   "cell_type": "markdown",
   "id": "optimum-upper",
   "metadata": {},
   "source": [
    "Com os dados já processados, vamos construir o modelo."
   ]
  },
  {
   "cell_type": "markdown",
   "id": "coastal-nicholas",
   "metadata": {},
   "source": [
    "O método *RandomSearch* foi realizado pelo Cientista de Dados e Professor [Carlos Melo](https://sigmoidal.ai/) para ajustar os melhores parâmetros, foi utilizado os parâmetros, pois este processo é muito lento e iria tomar muito tempo, então optei por utilizar os mesmos parâmetros já encontrados pelo Professor para a construção do modelo. Assim:"
   ]
  },
  {
   "cell_type": "code",
   "execution_count": 7,
   "id": "detected-supervisor",
   "metadata": {},
   "outputs": [
    {
     "name": "stdout",
     "output_type": "stream",
     "text": [
      "Epoch 1/3\n",
      "842/842 - 1548s - loss: 0.1082 - accuracy: 0.9643 - val_loss: 0.0053 - val_accuracy: 0.9985\n",
      "Epoch 2/3\n",
      "842/842 - 1693s - loss: 0.0034 - accuracy: 0.9991 - val_loss: 0.0037 - val_accuracy: 0.9991\n",
      "Epoch 3/3\n",
      "842/842 - 1665s - loss: 9.1976e-04 - accuracy: 0.9999 - val_loss: 0.0025 - val_accuracy: 0.9994\n"
     ]
    }
   ],
   "source": [
    "# Ajuste do modelo\n",
    "model = tf.keras.Sequential([\n",
    "        tf.keras.layers.Embedding(vocab_size, (155), input_length = max_length), \n",
    "        tf.keras.layers.Conv1D(16, 5, activation = 'relu'), \n",
    "        tf.keras.layers.GlobalMaxPooling1D(), \n",
    "        tf.keras.layers.Dense(1, activation = 'sigmoid')\n",
    "        ])\n",
    "\n",
    "model.compile(loss = 'binary_crossentropy',\n",
    "              optimizer = tf.keras.optimizers.Adam(learning_rate = 0.001), \n",
    "              metrics = ['accuracy'])\n",
    "\n",
    "history = model.fit(x_train, y_train, verbose = 2, epochs = 3, validation_data = (x_val, y_val), \n",
    "                    callbacks = [tf.keras.callbacks.EarlyStopping('val_loss', patience = 6)])"
   ]
  },
  {
   "cell_type": "markdown",
   "id": "injured-aging",
   "metadata": {},
   "source": [
    "Os resultados aparentam ser bem promissores, no entanto necessitam de uma maior investigação. Porém, satisfez o objetivo desse projeto que é de mostrar a eficácia das Redes Neurais. Assim, vamos visualizar os resultados:"
   ]
  },
  {
   "cell_type": "code",
   "execution_count": 8,
   "id": "ordered-brooklyn",
   "metadata": {},
   "outputs": [
    {
     "data": {
      "image/png": "[encoded data removed]",
      "text/plain": [
       "<Figure size 432x288 with 1 Axes>"
      ]
     },
     "metadata": {},
     "output_type": "display_data"
    },
    {
     "data": {
      "image/png": "[encoded data removed]",
      "text/plain": [
       "<Figure size 432x288 with 1 Axes>"
      ]
     },
     "metadata": {},
     "output_type": "display_data"
    }
   ],
   "source": [
    "# Visualização dos resultados\n",
    "def plot_graphs(history, string):\n",
    "    plt.plot(history.history[string])\n",
    "    plt.plot(history.history['val_'+string])\n",
    "    plt.xlabel(\"Epochs\")\n",
    "    plt.ylabel(string)\n",
    "    plt.legend([string, 'val_'+string])\n",
    "    plt.show()\n",
    "    \n",
    "plot_graphs(history, \"accuracy\")\n",
    "plot_graphs(history,\"loss\")"
   ]
  },
  {
   "cell_type": "markdown",
   "id": "surprised-birth",
   "metadata": {},
   "source": [
    "## **Previsões utilizando os dados de teste**"
   ]
  },
  {
   "cell_type": "markdown",
   "id": "directed-indication",
   "metadata": {},
   "source": [
    "Já construímos um *pipeline* ótimo para o tratamento dos dados, treinamos, ajustamos e tivemos ótimos resultados com os dados de validação.\n",
    "\n",
    "O modelo construído está pronta, mas ainda precisamos fazer previsões com ele e verificar o seu desempenho. Assim:"
   ]
  },
  {
   "cell_type": "code",
   "execution_count": 9,
   "id": "living-organizer",
   "metadata": {},
   "outputs": [],
   "source": [
    "# Tratamento dos dados de teste\n",
    "test_sequences = tokenizer.texts_to_sequences(np.array(test.text))\n",
    "test_padded = pad_sequences(test_sequences, padding = pad_type, truncating = trunc_type, maxlen = max_length)"
   ]
  },
  {
   "cell_type": "code",
   "execution_count": 10,
   "id": "august-injection",
   "metadata": {},
   "outputs": [],
   "source": [
    "# Fazendo previsões\n",
    "preds = np.round(model.predict(test_padded))"
   ]
  },
  {
   "cell_type": "code",
   "execution_count": 11,
   "id": "direct-characterization",
   "metadata": {},
   "outputs": [
    {
     "data": {
      "text/plain": [
       "11225"
      ]
     },
     "execution_count": 11,
     "metadata": {},
     "output_type": "execute_result"
    }
   ],
   "source": [
    "# Verificando o tamanho dos resultados\n",
    "len(preds)"
   ]
  },
  {
   "cell_type": "code",
   "execution_count": 13,
   "id": "sound-winner",
   "metadata": {},
   "outputs": [
    {
     "name": "stdout",
     "output_type": "stream",
     "text": [
      "Accuracy: 0.9989309576837416\n"
     ]
    }
   ],
   "source": [
    "# Verificando a acurácia\n",
    "acc = np.sum(1 if i == j else 0 for i, j in zip(preds, test[\"Target\"].values)) / len(test)\n",
    "\n",
    "print(f\"Accuracy: {acc}\")"
   ]
  }
 ],
 "metadata": {
  "kernelspec": {
   "display_name": "Python 3",
   "language": "python",
   "name": "python3"
  },
  "language_info": {
   "codemirror_mode": {
    "name": "ipython",
    "version": 3
   },
   "file_extension": ".py",
   "mimetype": "text/x-python",
   "name": "python",
   "nbconvert_exporter": "python",
   "pygments_lexer": "ipython3",
   "version": "3.8.5"
  }
 },
 "nbformat": 4,
 "nbformat_minor": 5
}
